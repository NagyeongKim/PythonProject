{
 "cells": [
  {
   "cell_type": "code",
   "execution_count": 3,
   "id": "fb3bfe4c",
   "metadata": {},
   "outputs": [
    {
     "name": "stdin",
     "output_type": "stream",
     "text": [
      "숫자를 입력하세요 >>> 3\n"
     ]
    },
    {
     "data": {
      "text/plain": [
       "3"
      ]
     },
     "execution_count": 3,
     "metadata": {},
     "output_type": "execute_result"
    }
   ],
   "source": [
    "int(input('숫자를 입력하세요 >>>'))"
   ]
  },
  {
   "cell_type": "code",
   "execution_count": 4,
   "id": "6239fc2b-d1cc-4850-a71c-b3ae0422c0e8",
   "metadata": {},
   "outputs": [
    {
     "name": "stdin",
     "output_type": "stream",
     "text": [
      "박스 당 과일 수 :  5\n",
      "전체 과일 수 :  20\n"
     ]
    },
    {
     "name": "stdout",
     "output_type": "stream",
     "text": [
      "숫자입니다.\n",
      "4.0 박스 20 개\n"
     ]
    }
   ],
   "source": [
    "# 박스 당 과일 수 x\n",
    "# 전체과일수  y\n",
    "# 출력 내용 : x박스 x개\n",
    "\n",
    "a= int(input(\"박스 당 과일 수 : \"))  # 5\n",
    "\n",
    "b= int(input(\"전체 과일 수 : \"))  #20\n",
    "\n",
    "\n",
    "print(\"숫자입니다.\")\n",
    "print(b/a , \"박스\" , b, \"개\")\n",
    "    "
   ]
  },
  {
   "cell_type": "code",
   "execution_count": null,
   "id": "21df1001-4f2f-40c8-90fc-ef10d0880ada",
   "metadata": {},
   "outputs": [],
   "source": []
  }
 ],
 "metadata": {
  "kernelspec": {
   "display_name": "Python 3 (ipykernel)",
   "language": "python",
   "name": "python3"
  },
  "language_info": {
   "codemirror_mode": {
    "name": "ipython",
    "version": 3
   },
   "file_extension": ".py",
   "mimetype": "text/x-python",
   "name": "python",
   "nbconvert_exporter": "python",
   "pygments_lexer": "ipython3",
   "version": "3.9.7"
  }
 },
 "nbformat": 4,
 "nbformat_minor": 5
}
